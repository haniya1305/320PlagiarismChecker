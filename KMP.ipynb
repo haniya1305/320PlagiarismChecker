{
 "cells": [
  {
   "cell_type": "code",
   "execution_count": null,
   "metadata": {
    "collapsed": true
   },
   "outputs": [],
   "source": [
    "# Implementing KMP Algorithm\n",
    "def KMP(p, t):\n",
    "    M = len(p)  # length of pattern is M\n",
    "    N = len(t)  # length of text is N\n",
    "    # initialization\n",
    "    pi = [0] * M\n",
    "    j = 0\n",
    "    # calculate pi table for the pattern\n",
    "    PiTable(p, M, pi)\n",
    "    i = 0  # index for text to iterate over\n",
    "    while (N - i) >= (M - j):\n",
    "        if p[j] == t[i]:\n",
    "            i += 1\n",
    "            j += 1\n",
    "        if j == M:\n",
    "            print(\"Pattern matched at index \" + str(i - j))\n",
    "            j = pi[j - 1]\n",
    "        # mismatch after j matches\n",
    "        elif i < N and p[j] != t[i]:\n",
    "            # Do not match pi[0..pi[j-1]] characters,\n",
    "            # they will match anyway\n",
    "            if j != 0:\n",
    "                j = pi[j - 1]\n",
    "            else:\n",
    "                i += 1\n",
    "\n",
    "def PiTable(pat, M, pi):\n",
    "    sub = 0  # length of the previous longest prefix suffix\n",
    "    pi[0] = 0  # lps[0] is always 0\n",
    "    i = 1\n",
    "    # the loop calculates lps[i] for i = 1 to M-1\n",
    "    while i < M:\n",
    "        if pat[i] == pat[sub]:\n",
    "            sub += 1\n",
    "            pi[i] = sub\n",
    "            i += 1\n",
    "        else:\n",
    "            if sub != 0:\n",
    "                sub = pi[sub - 1]\n",
    "                # Also, note that we do not increment i here\n",
    "            else:\n",
    "                pi[i] = 0\n",
    "                i += 1"
   ]
  },
  {
   "cell_type": "code",
   "execution_count": null,
   "outputs": [],
   "source": [],
   "metadata": {
    "collapsed": false
   }
  }
 ],
 "metadata": {
  "kernelspec": {
   "display_name": "Python 3",
   "language": "python",
   "name": "python3"
  },
  "language_info": {
   "codemirror_mode": {
    "name": "ipython",
    "version": 2
   },
   "file_extension": ".py",
   "mimetype": "text/x-python",
   "name": "python",
   "nbconvert_exporter": "python",
   "pygments_lexer": "ipython2",
   "version": "2.7.6"
  }
 },
 "nbformat": 4,
 "nbformat_minor": 0
}
