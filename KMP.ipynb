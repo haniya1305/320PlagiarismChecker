{
 "cells": [
  {
   "cell_type": "code",
   "execution_count": 21,
   "outputs": [],
   "source": [
    "import arxiv\n",
    "import requests\n",
    "import io\n",
    "import PyPDF2\n",
    "import time\n",
    "import pandas as pd\n",
    "import matplotlib.pyplot as plt\n",
    "import random\n",
    "import string as st\n",
    "\n",
    "import logging\n",
    "logger = logging.getLogger(\"PyPDF2\")\n",
    "logger.setLevel(logging.ERROR)"
   ],
   "metadata": {
    "collapsed": false
   }
  },
  {
   "cell_type": "code",
   "execution_count": 31,
   "outputs": [],
   "source": [
    "# Implementing KMP Algorithm\n",
    "def KMP(p, t):\n",
    "    M = len(p)  # length of pattern is M\n",
    "    N = len(t)  # length of text is N\n",
    "    # initialization\n",
    "    pi = [0] * M\n",
    "    j = 0\n",
    "    # calculate pi table for the pattern\n",
    "    PiTable(p, M, pi)\n",
    "    i = 0  # index for text to iterate over\n",
    "    while (N - i) >= (M - j):\n",
    "        if p[j] == t[i]:\n",
    "            i += 1\n",
    "            j += 1\n",
    "        if j == M:\n",
    "            print(\"Pattern matched at index \" + str(i - j))\n",
    "            j = pi[j - 1]\n",
    "        # mismatch after j matches\n",
    "        elif i < N and p[j] != t[i]:\n",
    "            # Do not match pi[0..pi[j-1]] characters,\n",
    "            # they will match anyway\n",
    "            if j != 0:\n",
    "                j = pi[j - 1]\n",
    "            else:\n",
    "                i += 1\n",
    "\n",
    "def PiTable(pat, M, pi):\n",
    "    sub = 0  # length of the previous longest prefix suffix\n",
    "    pi[0] = 0  # lps[0] is always 0\n",
    "    i = 1\n",
    "    # the loop calculates lps[i] for i = 1 to M-1\n",
    "    while i < M:\n",
    "        if pat[i] == pat[sub]:\n",
    "            sub += 1\n",
    "            pi[i] = sub\n",
    "            i += 1\n",
    "        else:\n",
    "            if sub != 0:\n",
    "                sub = pi[sub - 1]\n",
    "                # Also, note that we do not increment i here\n",
    "            else:\n",
    "                pi[i] = 0\n",
    "                i += 1\n",
    "\n",
    "def naive_string_matching(p, t):\n",
    "    n = len(t)\n",
    "    m = len(p)\n",
    "\n",
    "    for i in range(n):\n",
    "        match = True\n",
    "        for j in range(m):\n",
    "            if i+j >= n or t[i + j] != p[j]:\n",
    "                match = False\n",
    "                break\n",
    "        if match:\n",
    "            print(\"Match found at index\", i)\n"
   ],
   "metadata": {
    "collapsed": false
   }
  },
  {
   "cell_type": "code",
   "execution_count": 23,
   "outputs": [],
   "source": [
    "# Code to extract papers from Arxiv database\n",
    "# Method to extract papers found based on a query, and extract the text and return the concatenated string\n",
    "def extract_papers(query, volume):\n",
    "    search = arxiv.Search(\n",
    "        query = query,\n",
    "        max_results = volume,\n",
    "    )\n",
    "    string = \"\"\n",
    "    for result in search.results():\n",
    "        # Get binary data of the PDF\n",
    "        response = requests.get(result.pdf_url)\n",
    "        pdf_file = io.BytesIO(response.content)\n",
    "        # Read the PDF file\n",
    "        try:\n",
    "            pdf_reader = PyPDF2.PdfReader(pdf_file)\n",
    "            num_pages = len(pdf_reader.pages)\n",
    "            # Iterate through each page and extract the text\n",
    "            for page_number in range(num_pages):\n",
    "                pdf_page = pdf_reader.pages[page_number]\n",
    "                text = pdf_page.extract_text()\n",
    "                string += text\n",
    "        except:\n",
    "            print(\"PDF with Invalid formatting found. Skipping..\")\n",
    "    return string"
   ],
   "metadata": {
    "collapsed": false
   }
  },
  {
   "cell_type": "code",
   "execution_count": 24,
   "outputs": [
    {
     "name": "stdout",
     "output_type": "stream",
     "text": [
      "STARTED: Extracting papers\n",
      "PDF with Invalid formatting found. Skipping..\n",
      "PDF with Invalid formatting found. Skipping..\n",
      "FINISH: Extracted all the papers\n"
     ]
    }
   ],
   "source": [
    "print(\"STARTED: Extracting papers\")\n",
    "all_papers_string = extract_papers(query=\"Robot\", volume=100)\n",
    "print(\"FINISH: Extracted all the papers\")"
   ],
   "metadata": {
    "collapsed": false
   }
  },
  {
   "cell_type": "code",
   "execution_count": null,
   "outputs": [],
   "source": [
    "# Plotting a graph keeping the length of pattern constant, and length of text varying\n",
    "\n",
    "t_vals = []\n",
    "rt_vals = []\n",
    "nrt_values = []\n",
    "\n",
    "gap_size = int(len(all_papers_string)/1000)\n",
    "p = \" ^_^ This text pattern never exists in research papers ^_^ \"\n",
    "\n",
    "for N in range(1000, len(all_papers_string), gap_size):\n",
    "    t = all_papers_string[0:N]\n",
    "    t_vals.append(len(t))\n",
    "    # Running the KMP algortihm\n",
    "    start_time = time.time()\n",
    "    KMP(p, t)\n",
    "    runtime = time.time() - start_time\n",
    "    rt_vals.append(runtime)\n",
    "    # Running the naive algorithm\n",
    "    start_time = time.time()\n",
    "    naive_string_matching(p, t)\n",
    "    runtime = time.time() - start_time\n",
    "    nrt_values.append(runtime)\n",
    "\n",
    "data = {\"n\" : t_vals, \"runtime\" : rt_vals, \"naive runtime\" : nrt_values}\n",
    "df = pd.DataFrame(data)\n",
    "\n",
    "plt.plot(df['n'], df['runtime'], 'o', label='KMP runtime')\n",
    "plt.plot(df['n'], df['naive runtime'], 'o', label='Naive runtime')\n",
    "plt.xlabel('n')\n",
    "plt.ylabel('runtime')\n",
    "plt.title(\"Runtime of Algorithm (w/ changing len(t) varying)\")\n",
    "plt.show()"
   ],
   "metadata": {
    "collapsed": false,
    "pycharm": {
     "is_executing": true
    }
   }
  },
  {
   "cell_type": "code",
   "execution_count": null,
   "outputs": [],
   "source": [
    "# Plotting a graph keeping the length of text constant, and length of pattern varying\n",
    "\n",
    "def get_random_pattern(length):\n",
    "    # choose from all lowercase letter\n",
    "    letters = st.ascii_lowercase\n",
    "    result_str = ''.join(random.choice(letters) for i in range(length))\n",
    "    return result_str\n",
    "\n",
    "p_vals = []\n",
    "rt_vals = []\n",
    "nrt_vals = []\n",
    "\n",
    "gap_size = int(len(all_papers_string)/1000)\n",
    "\n",
    "for N in range(1000, len(all_papers_string), gap_size):\n",
    "    p_vals.append(N)\n",
    "    p = get_random_pattern(N)\n",
    "    start_time = time.time()\n",
    "    KMP(p, all_papers_string)\n",
    "    runtime = time.time() - start_time\n",
    "    rt_vals.append(runtime)\n",
    "    start_time = time.time()\n",
    "    naive_string_matching(p, all_papers_string)\n",
    "    runtime = time.time() - start_time\n",
    "    nrt_values.append(runtime)\n",
    "\n",
    "data = {\"n\" : t_vals, \"runtime\" : rt_vals, \"naive runtime\" : nrt_values}\n",
    "df = pd.DataFrame(data)\n",
    "\n",
    "plt.plot(df['n'], df['runtime'], 'o', label='KMP runtime')\n",
    "plt.plot(df['n'], df['naive runtime'], 'o', label='Naive runtime')\n",
    "plt.xlabel('n')\n",
    "plt.ylabel('runtime')\n",
    "plt.title(\"Runtime of Algorithm (w/ changing len(p) varying)\")\n",
    "plt.show()"
   ],
   "metadata": {
    "collapsed": false
   }
  },
  {
   "cell_type": "code",
   "execution_count": null,
   "outputs": [],
   "source": [],
   "metadata": {
    "collapsed": false
   }
  }
 ],
 "metadata": {
  "kernelspec": {
   "display_name": "Python 3",
   "language": "python",
   "name": "python3"
  },
  "language_info": {
   "codemirror_mode": {
    "name": "ipython",
    "version": 2
   },
   "file_extension": ".py",
   "mimetype": "text/x-python",
   "name": "python",
   "nbconvert_exporter": "python",
   "pygments_lexer": "ipython2",
   "version": "2.7.6"
  }
 },
 "nbformat": 4,
 "nbformat_minor": 0
}
