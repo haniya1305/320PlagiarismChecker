{
 "cells": [
  {
   "cell_type": "code",
   "execution_count": null,
   "metadata": {
    "collapsed": true
   },
   "outputs": [],
   "source": [
    "# Implementation of Rabin-Karp algorithm from CLRS book\n",
    "ALPHABET_SIZE = 256 # number of characters in input alphabet\n",
    "PRIME_NUMBER = 101 # prime number\n",
    "\n",
    "def search(pattern, text, prime):\n",
    "    pattern_length = len(pattern)\n",
    "    text_length = len(text)\n",
    "    i = 0\n",
    "    j = 0\n",
    "    pattern_hash = 0\n",
    "    text_hash = 0\n",
    "    hash_multiplier = 1\n",
    "\n",
    "    # Calculate hash multiplier as pow(ALPHABET_SIZE, pattern_length-1) % prime\n",
    "    for i in range(pattern_length-1):\n",
    "        hash_multiplier = (hash_multiplier * ALPHABET_SIZE) % prime\n",
    "\n",
    "    # Calculate the hash value of pattern and first window of text\n",
    "    for i in range(pattern_length):\n",
    "        pattern_hash = (ALPHABET_SIZE * pattern_hash + ord(pattern[i])) % prime\n",
    "        text_hash = (ALPHABET_SIZE * text_hash + ord(text[i])) % prime\n",
    "\n",
    "    # Slide the pattern over text one by one\n",
    "    for i in range(text_length - pattern_length + 1):\n",
    "        # Check the hash values of current window of text and pattern\n",
    "        # If the hash values match then only check for characters one by one\n",
    "        if pattern_hash == text_hash:\n",
    "            # Check for characters one by one\n",
    "            for j in range(pattern_length):\n",
    "                if text[i + j] != pattern[j]:\n",
    "                    break\n",
    "            j += 1\n",
    "            # If p == t and pat[0...M-1] = txt[i, i + 1, ...i + M-1]\n",
    "            if j == pattern_length:\n",
    "                print(\"Pattern found at index \" + str(i))\n",
    "\n",
    "        # Calculate hash value for next window of text: Remove leading digit, add trailing digit\n",
    "        if i < text_length - pattern_length:\n",
    "            text_hash = (ALPHABET_SIZE * (text_hash - ord(text[i]) * hash_multiplier) + ord(text[i + pattern_length])) % prime\n",
    "            # We might get negative values of text_hash, converting it to positive\n",
    "            if text_hash < 0:\n",
    "                text_hash += prime\n",
    "\n",
    "# Driver program to test the above function\n",
    "text = \"GEEKS FOR GEEKS\"\n",
    "pattern = \"GEEK\"\n",
    "prime = 101 # A prime number\n",
    "search(pattern, text, prime)\n",
    "\n"
   ]
  }
 ],
 "metadata": {
  "kernelspec": {
   "display_name": "Python 3",
   "language": "python",
   "name": "python3"
  },
  "language_info": {
   "codemirror_mode": {
    "name": "ipython",
    "version": 2
   },
   "file_extension": ".py",
   "mimetype": "text/x-python",
   "name": "python",
   "nbconvert_exporter": "python",
   "pygments_lexer": "ipython2",
   "version": "2.7.6"
  }
 },
 "nbformat": 4,
 "nbformat_minor": 0
}
