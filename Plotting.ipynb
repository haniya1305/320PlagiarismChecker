{
 "cells": [
  {
   "cell_type": "code",
   "execution_count": 12,
   "outputs": [],
   "source": [
    "import arxiv\n",
    "import requests\n",
    "import time\n",
    "import pandas as pd\n",
    "import matplotlib.pyplot as plt\n",
    "import random\n",
    "import string as st\n",
    "import re\n",
    "from PyPDF2 import PdfReader\n",
    "import io\n",
    "from pathlib import Path\n",
    "\n",
    "# Error handling\n",
    "import logging\n",
    "logger = logging.getLogger(\"PyPDF2\")\n",
    "logger.setLevel(logging.ERROR)\n",
    "\n",
    "# Importing all the algorithm implementation\n",
    "from LCS import longest_common_subsequence\n",
    "from RapinKarp import RapinKarpSearch\n",
    "from KMP import KMP"
   ],
   "metadata": {
    "collapsed": false
   }
  },
  {
   "cell_type": "code",
   "execution_count": 13,
   "outputs": [],
   "source": [
    "# Helper Methods\n",
    "def bigO_time(length):\n",
    "    start_time = time.time()\n",
    "    for i in range(0, length):\n",
    "        pass\n",
    "    return time.time() - start_time"
   ],
   "metadata": {
    "collapsed": false
   }
  },
  {
   "cell_type": "code",
   "execution_count": 16,
   "outputs": [],
   "source": [
    "def refine_filename(filename):\n",
    "    # Replace all non-alphanumeric characters with underscores\n",
    "    filename = re.sub('[^0-9a-zA-Z]+', '_', filename)\n",
    "\n",
    "    # Remove leading and trailing underscores\n",
    "    filename = re.sub('^_|_$', '', filename)\n",
    "\n",
    "    # Ensure that the filename ends with \".py\"\n",
    "    if not filename.endswith('.pdf'):\n",
    "        filename += '.pdf'\n",
    "\n",
    "    return filename\n",
    "\n",
    "# Method to extract papers found based on a query, and extract the text and return the concatenated string\n",
    "def extract_papers(query, filepath, volume):\n",
    "    session = requests.Session()\n",
    "    session.headers.update({'user-agent': 'Mozilla/5.0 (Windows NT 10.0; Win64; x64) AppleWebKit/537.36 (KHTML, like Gecko) Chrome/86.0.4240.75 Safari/537.36'})\n",
    "    papers_extracted = 0\n",
    "    try:\n",
    "        for result in arxiv.Search(query=query, max_results=volume).results():\n",
    "            extracted = False\n",
    "            counter = 0\n",
    "            while not extracted and counter < 10:\n",
    "                try:\n",
    "                    counter += 1\n",
    "                    result.download_pdf(dirpath=filepath, filename=refine_filename(result.title))\n",
    "                    extracted = True\n",
    "                    papers_extracted += 1\n",
    "                except: time.sleep(10)\n",
    "            print(f\"Papers extracted: {papers_extracted}/{volume}\", end='\\r')\n",
    "    except Exception as e: print(e)\n",
    "    finally: session.close()\n",
    "\n",
    "def read_pdf_files(folder_path):\n",
    "    pdf_files = list(Path(folder_path).glob('*.pdf'))\n",
    "\n",
    "    all_text = io.StringIO()\n",
    "    for pdf_file in pdf_files:\n",
    "        with open(pdf_file, 'rb') as f:\n",
    "            pdf = PdfReader(f)\n",
    "            text = \"\"\n",
    "            for page in pdf.pages:\n",
    "                text += page.extract_text()\n",
    "\n",
    "            all_text.write(text)\n",
    "\n",
    "    return all_text.getvalue()"
   ],
   "metadata": {
    "collapsed": false
   }
  },
  {
   "cell_type": "code",
   "execution_count": 6,
   "outputs": [
    {
     "name": "stdout",
     "output_type": "stream",
     "text": [
      "STARTED: Extracting papers\n",
      "FINISH: Extracted all the papers\n"
     ]
    }
   ],
   "source": [
    "print(\"STARTED: Extracting papers\")\n",
    "extract_papers(query=\"galaxy\", filepath=\"PDFs/\", volume=300)\n",
    "extract_papers(query=\"psychology\", filepath=\"PDFs/\", volume=300)\n",
    "extract_papers(query=\"economics\", filepath=\"PDFs/\", volume=300)\n",
    "print(\"FINISH: Extracted all the papers\")"
   ],
   "metadata": {
    "collapsed": false
   }
  },
  {
   "cell_type": "code",
   "execution_count": null,
   "outputs": [],
   "source": [
    "all_papers_string = read_pdf_files(\"PDFs/\")\n",
    "print(\"Total characters extracted from Arxiv Database:\", len(all_papers_string))"
   ],
   "metadata": {
    "collapsed": false,
    "pycharm": {
     "is_executing": true
    }
   }
  },
  {
   "cell_type": "code",
   "execution_count": null,
   "outputs": [],
   "source": [
    "# Plotting a graph keeping the length of pattern constant, and length of text varying\n",
    "\n",
    "n_vals = []\n",
    "KMP_vals = []\n",
    "LCS_vals = []\n",
    "RabinKarp_vals = []\n",
    "baseline_vals = []\n",
    "\n",
    "gap_size = int(len(all_papers_string)/1000)\n",
    "p = \" ^_^ This text pattern never exists in research papers ^_^ \"\n",
    "\n",
    "for N in range(1000, len(all_papers_string), gap_size):\n",
    "    t = all_papers_string[0:N]\n",
    "    n_vals.append(len(t))\n",
    "\n",
    "    # Running the KMP algorithm\n",
    "    start_time = time.time()\n",
    "    KMP(p, t)\n",
    "    runtime = time.time() - start_time\n",
    "    KMP_vals.append(runtime)\n",
    "\n",
    "    # Running the Rabin Karp algorithm\n",
    "    start_time = time.time()\n",
    "    RapinKarpSearch(p, t)\n",
    "    runtime = time.time() - start_time\n",
    "    RabinKarp_vals.append(runtime)\n",
    "\n",
    "    # Running the LCS algorithm\n",
    "    start_time = time.time()\n",
    "    longest_common_subsequence(p, t)\n",
    "    runtime = time.time() - start_time\n",
    "    LCS_vals.append(runtime)\n",
    "\n",
    "    # Plotting the function O(n)\n",
    "    baseline_vals.append(bigO_time(len(t) + len(p)))\n",
    "\n",
    "data = {\"n\" : n_vals, \"KMPrt\" : KMP_vals,\"RKrt\" : RabinKarp_vals, \"LCSrt\" : LCS_vals, \"O(n+m)\" : baseline_vals}\n",
    "df = pd.DataFrame(data)\n",
    "df.to_csv('Files/RT_manipulating_text.csv', encoding='utf-8', index=False)\n",
    "plt.plot(df['n'], df['KMPrt'], 'o', label='KMPrt')\n",
    "plt.plot(df['n'], df['RKrt'], 'o', label='RKrt')\n",
    "plt.plot(df['n'], df['LCSrt'], 'o', label='LCSrt')\n",
    "plt.plot(df['n'], df['O(n+m)'], 'o', label='O(n + m)')\n",
    "plt.xlabel('n')\n",
    "plt.ylabel('runtime (in secs.)')\n",
    "plt.legend()\n",
    "plt.title(\"Runtime of Algorithm (with varying text length)\")\n",
    "plt.savefig('Plots/plot_manipulating_text.png')\n",
    "plt.show()"
   ],
   "metadata": {
    "collapsed": false
   }
  },
  {
   "cell_type": "code",
   "execution_count": null,
   "outputs": [],
   "source": [
    "# Plotting a graph keeping the length of text constant, and length of pattern varying\n",
    "\n",
    "def get_random_pattern(length):\n",
    "    # choose from all lowercase letter\n",
    "    letters = st.ascii_lowercase\n",
    "    result_str = ''.join(random.choice(letters) for i in range(length))\n",
    "    return result_str\n",
    "\n",
    "m_vals = []\n",
    "KMP_vals = []\n",
    "LCS_vals = []\n",
    "RabinKarp_vals = []\n",
    "baseline_vals = []\n",
    "\n",
    "gap_size = int(len(all_papers_string)/1000)\n",
    "\n",
    "for N in range(1000, len(all_papers_string), gap_size):\n",
    "    m_vals.append(N)\n",
    "    p = get_random_pattern(N)\n",
    "\n",
    "    # Running the KMP algorithm\n",
    "    start_time = time.time()\n",
    "    KMP(p, all_papers_string)\n",
    "    runtime = time.time() - start_time\n",
    "    KMP_vals.append(runtime)\n",
    "\n",
    "    # Running the Rabin Karp algorithm\n",
    "    start_time = time.time()\n",
    "    RapinKarpSearch(p, all_papers_string)\n",
    "    runtime = time.time() - start_time\n",
    "    RabinKarp_vals.append(runtime)\n",
    "\n",
    "    # Running the LCS algorithm\n",
    "    start_time = time.time()\n",
    "    longest_common_subsequence(p, all_papers_string)\n",
    "    runtime = time.time() - start_time\n",
    "    LCS_vals.append(runtime)\n",
    "\n",
    "    # Plotting the function O(n)\n",
    "    baseline_vals.append(bigO_time(len(all_papers_string) + len(p)))\n",
    "\n",
    "data = {\"m\" : m_vals, \"KMPrt\" : KMP_vals,\"RKrt\" : RabinKarp_vals, \"LCSrt\" : LCS_vals, \"O(n+m)\" : baseline_vals}\n",
    "df = pd.DataFrame(data)\n",
    "df.to_csv('Files/RT_manipulating_pattern.csv', encoding='utf-8', index=False)\n",
    "plt.plot(df['m'], df['KMPrt'], 'o', label='KMPrt')\n",
    "plt.plot(df['m'], df['RKrt'], 'o', label='RKrt')\n",
    "plt.plot(df['m'], df['LCSrt'], 'o', label='LCSrt')\n",
    "plt.plot(df['m'], df['O(n+m)'], 'o', label='O(n + m)')\n",
    "plt.xlabel('m')\n",
    "plt.ylabel('runtime (in secs.)')\n",
    "plt.legend()\n",
    "plt.title(\"Runtime of Algorithm (with varying pattern length)\")\n",
    "plt.savefig('Plots/plot_manipulating_pattern.png')\n",
    "plt.show()"
   ],
   "metadata": {
    "collapsed": false
   }
  }
 ],
 "metadata": {
  "kernelspec": {
   "display_name": "Python 3",
   "language": "python",
   "name": "python3"
  },
  "language_info": {
   "codemirror_mode": {
    "name": "ipython",
    "version": 2
   },
   "file_extension": ".py",
   "mimetype": "text/x-python",
   "name": "python",
   "nbconvert_exporter": "python",
   "pygments_lexer": "ipython2",
   "version": "2.7.6"
  }
 },
 "nbformat": 4,
 "nbformat_minor": 0
}
