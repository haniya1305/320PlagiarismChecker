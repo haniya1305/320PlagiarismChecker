{
 "cells": [
  {
   "cell_type": "code",
   "execution_count": 16,
   "outputs": [],
   "source": [
    "import arxiv\n",
    "import requests\n",
    "import io\n",
    "import PyPDF2\n",
    "import time\n",
    "import pandas as pd\n",
    "import matplotlib.pyplot as plt\n",
    "import random\n",
    "import string as st\n",
    "\n",
    "# Error handling\n",
    "import logging\n",
    "logger = logging.getLogger(\"PyPDF2\")\n",
    "logger.setLevel(logging.ERROR)\n",
    "\n",
    "# Importing all the algorithm implementation\n",
    "from LCS import longest_common_subsequence\n",
    "from RapinKarp import RapinKarpSearch\n",
    "from KMP import KMP"
   ],
   "metadata": {
    "collapsed": false
   }
  },
  {
   "cell_type": "code",
   "execution_count": 17,
   "outputs": [],
   "source": [
    "# Helper Methods\n",
    "def bigO_time(length):\n",
    "    start_time = time.time()\n",
    "    for i in range(0, length):\n",
    "        pass\n",
    "    return time.time() - start_time"
   ],
   "metadata": {
    "collapsed": false
   }
  },
  {
   "cell_type": "code",
   "execution_count": 18,
   "outputs": [],
   "source": [
    "# Code to extract papers from Arxiv database\n",
    "# Method to extract papers found based on a query, and extract the text and return the concatenated string\n",
    "def extract_papers(query, volume):\n",
    "    search = arxiv.Search(\n",
    "        query = query,\n",
    "        max_results = volume,\n",
    "    )\n",
    "    string = \"\"\n",
    "    paper_extracted = 0;\n",
    "    for result in search.results():\n",
    "        # Get binary data of the PDF\n",
    "        response = requests.get(result.pdf_url)\n",
    "        pdf_file = io.BytesIO(response.content)\n",
    "        # Read the PDF file\n",
    "        try:\n",
    "            pdf_reader = PyPDF2.PdfReader(pdf_file)\n",
    "            num_pages = len(pdf_reader.pages)\n",
    "            # Iterate through each page and extract the text\n",
    "            for page_number in range(num_pages):\n",
    "                pdf_page = pdf_reader.pages[page_number]\n",
    "                text = pdf_page.extract_text()\n",
    "                string += text\n",
    "            paper_extracted += 1\n",
    "            print(f\"Papers extracted        : {paper_extracted}/{volume}\", end='\\r')\n",
    "        except:\n",
    "            print(\"PDF with Invalid formatting found. Skipping..\")\n",
    "    return string"
   ],
   "metadata": {
    "collapsed": false
   }
  },
  {
   "cell_type": "code",
   "execution_count": null,
   "outputs": [
    {
     "name": "stdout",
     "output_type": "stream",
     "text": [
      "STARTED: Extracting papers\n",
      "Papers extracted: 20/1000\r"
     ]
    }
   ],
   "source": [
    "print(\"STARTED: Extracting papers\")\n",
    "all_papers_string = extract_papers(query=\"Robot\", volume=1000)\n",
    "print(\"FINISH: Extracted all the papers\")\n",
    "print(\"Total word extracted\", len(all_papers_string))"
   ],
   "metadata": {
    "collapsed": false,
    "pycharm": {
     "is_executing": true
    }
   }
  },
  {
   "cell_type": "code",
   "execution_count": null,
   "outputs": [],
   "source": [
    "# Plotting a graph keeping the length of pattern constant, and length of text varying\n",
    "\n",
    "n_vals = []\n",
    "KMP_vals = []\n",
    "LCS_vals = []\n",
    "RabinKarp_vals = []\n",
    "baseline_vals = []\n",
    "\n",
    "gap_size = int(len(all_papers_string)/1000)\n",
    "p = \" ^_^ This text pattern never exists in research papers ^_^ \"\n",
    "\n",
    "for N in range(1000, len(all_papers_string), gap_size):\n",
    "    t = all_papers_string[0:N]\n",
    "    n_vals.append(len(t))\n",
    "\n",
    "    # Running the KMP algorithm\n",
    "    start_time = time.time()\n",
    "    KMP(p, t)\n",
    "    runtime = time.time() - start_time\n",
    "    KMP_vals.append(runtime)\n",
    "\n",
    "    # Running the Rabin Karp algorithm\n",
    "    start_time = time.time()\n",
    "    RapinKarpSearch(p, t)\n",
    "    runtime = time.time() - start_time\n",
    "    RabinKarp_vals.append(runtime)\n",
    "\n",
    "    # Running the LCS algorithm\n",
    "    start_time = time.time()\n",
    "    longest_common_subsequence(p, t)\n",
    "    runtime = time.time() - start_time\n",
    "    LCS_vals.append(runtime)\n",
    "\n",
    "    # Plotting the function O(n)\n",
    "    baseline_vals.append(bigO_time(len(t) + len(p)))\n",
    "\n",
    "data = {\"n\" : n_vals, \"KMPrt\" : KMP_vals,\"RKrt\" : RabinKarp_vals, \"LCSrt\" : LCS_vals, \"O(n+m)\" : baseline_vals}\n",
    "df = pd.DataFrame(data)\n",
    "plt.plot(df['n'], df['KMPrt'], 'o', label='KMPrt')\n",
    "plt.plot(df['n'], df['RKrt'], 'o', label='RKrt')\n",
    "plt.plot(df['n'], df['LCSrt'], 'o', label='LCSrt')\n",
    "plt.plot(df['n'], df['O(n+m)'], 'o', label='O(n + m)')\n",
    "plt.xlabel('n')\n",
    "plt.ylabel('runtime (in secs.)')\n",
    "plt.legend()\n",
    "plt.title(\"Runtime of Algorithm (with varying text length)\")\n",
    "plt.savefig('Plots/plot_manipulating_text.png')\n",
    "plt.show()"
   ],
   "metadata": {
    "collapsed": false,
    "pycharm": {
     "is_executing": true
    }
   }
  },
  {
   "cell_type": "code",
   "execution_count": null,
   "outputs": [],
   "source": [
    "# Plotting a graph keeping the length of text constant, and length of pattern varying\n",
    "\n",
    "def get_random_pattern(length):\n",
    "    # choose from all lowercase letter\n",
    "    letters = st.ascii_lowercase\n",
    "    result_str = ''.join(random.choice(letters) for i in range(length))\n",
    "    return result_str\n",
    "\n",
    "m_vals = []\n",
    "KMP_vals = []\n",
    "LCS_vals = []\n",
    "RabinKarp_vals = []\n",
    "baseline_vals = []\n",
    "\n",
    "gap_size = int(len(all_papers_string)/1000)\n",
    "\n",
    "for N in range(1000, len(all_papers_string), gap_size):\n",
    "    m_vals.append(N)\n",
    "    p = get_random_pattern(N)\n",
    "\n",
    "    # Running the KMP algorithm\n",
    "    start_time = time.time()\n",
    "    KMP(p, all_papers_string)\n",
    "    runtime = time.time() - start_time\n",
    "    KMP_vals.append(runtime)\n",
    "\n",
    "    # Running the Rabin Karp algorithm\n",
    "    start_time = time.time()\n",
    "    RapinKarpSearch(p, all_papers_string)\n",
    "    runtime = time.time() - start_time\n",
    "    RabinKarp_vals.append(runtime)\n",
    "\n",
    "    # Running the LCS algorithm\n",
    "    start_time = time.time()\n",
    "    longest_common_subsequence(p, all_papers_string)\n",
    "    runtime = time.time() - start_time\n",
    "    LCS_vals.append(runtime)\n",
    "\n",
    "    # Plotting the function O(n)\n",
    "    baseline_vals.append(bigO_time(len(all_papers_string) + len(p)))\n",
    "\n",
    "data = {\"m\" : m_vals, \"KMPrt\" : KMP_vals,\"RKrt\" : RabinKarp_vals, \"LCSrt\" : LCS_vals, \"O(n+m)\" : baseline_vals}\n",
    "df = pd.DataFrame(data)\n",
    "plt.plot(df['m'], df['KMPrt'], 'o', label='KMPrt')\n",
    "plt.plot(df['m'], df['RKrt'], 'o', label='RKrt')\n",
    "plt.plot(df['m'], df['LCSrt'], 'o', label='LCSrt')\n",
    "plt.plot(df['m'], df['O(n+m)'], 'o', label='O(n + m)')\n",
    "plt.xlabel('m')\n",
    "plt.ylabel('runtime (in secs.)')\n",
    "plt.legend()\n",
    "plt.title(\"Runtime of Algorithm (with varying pattern length)\")\n",
    "plt.savefig('Plots/plot_manipulating_pattern.png')\n",
    "plt.show()"
   ],
   "metadata": {
    "collapsed": false,
    "pycharm": {
     "is_executing": true
    }
   }
  },
  {
   "cell_type": "code",
   "execution_count": null,
   "outputs": [],
   "source": [],
   "metadata": {
    "collapsed": false,
    "pycharm": {
     "is_executing": true
    }
   }
  }
 ],
 "metadata": {
  "kernelspec": {
   "display_name": "Python 3",
   "language": "python",
   "name": "python3"
  },
  "language_info": {
   "codemirror_mode": {
    "name": "ipython",
    "version": 2
   },
   "file_extension": ".py",
   "mimetype": "text/x-python",
   "name": "python",
   "nbconvert_exporter": "python",
   "pygments_lexer": "ipython2",
   "version": "2.7.6"
  }
 },
 "nbformat": 4,
 "nbformat_minor": 0
}
