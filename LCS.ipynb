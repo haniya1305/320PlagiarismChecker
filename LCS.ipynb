{
 "cells": [
  {
   "cell_type": "code",
   "execution_count": null,
   "metadata": {
    "collapsed": true
   },
   "outputs": [],
   "source": [
    "# Dynamic Programming implementation of Longest Common Subsequence problem\n",
    "\n",
    "def longest_common_subsequence(str1, str2):\n",
    "    # Find the length of the strings\n",
    "    len1 = len(str1)\n",
    "    len2 = len(str2)\n",
    "\n",
    "    # Declare the array for storing the dp values\n",
    "    dp_array = [[None] * (len2 + 1) for i in range(len1 + 1)]\n",
    "\n",
    "    for i in range(len1 + 1):\n",
    "        for j in range(len2 + 1):\n",
    "            if i == 0 or j == 0:\n",
    "                dp_array[i][j] = 0\n",
    "            elif str1[i-1] == str2[j-1]:\n",
    "                dp_array[i][j] = dp_array[i-1][j-1] + 1\n",
    "            else:\n",
    "                dp_array[i][j] = max(dp_array[i-1][j], dp_array[i][j-1])\n",
    "\n",
    "    # dp_array[len1][len2] contains the length of LCS of str1[0..len1-1] & str2[0..len2-1]\n",
    "    return dp_array[len1][len2]\n",
    "\n",
    "# Driver program to test the above function\n",
    "str1 = \"AGGTAB\"\n",
    "str2 = \"GXTXAYB\"\n",
    "print(\"Length of LCS is \", longest_common_subsequence(str1, str2))"
   ]
  }
 ],
 "metadata": {
  "kernelspec": {
   "display_name": "Python 3",
   "language": "python",
   "name": "python3"
  },
  "language_info": {
   "codemirror_mode": {
    "name": "ipython",
    "version": 2
   },
   "file_extension": ".py",
   "mimetype": "text/x-python",
   "name": "python",
   "nbconvert_exporter": "python",
   "pygments_lexer": "ipython2",
   "version": "2.7.6"
  }
 },
 "nbformat": 4,
 "nbformat_minor": 0
}
